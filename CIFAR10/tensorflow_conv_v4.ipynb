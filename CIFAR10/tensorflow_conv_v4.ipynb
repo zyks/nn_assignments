{
 "cells": [
  {
   "cell_type": "code",
   "execution_count": 1,
   "metadata": {
    "collapsed": false
   },
   "outputs": [
    {
     "name": "stderr",
     "output_type": "stream",
     "text": [
      "Vendor:  Continuum Analytics, Inc.\n",
      "Package: mkl\n",
      "Message: trial mode expires in 30 days\n"
     ]
    },
    {
     "name": "stdout",
     "output_type": "stream",
     "text": [
      "Populating the interactive namespace from numpy and matplotlib\n"
     ]
    }
   ],
   "source": [
    "%pylab inline\n",
    "import tensorflow as tf\n",
    "import re"
   ]
  },
  {
   "cell_type": "code",
   "execution_count": 3,
   "metadata": {
    "collapsed": true
   },
   "outputs": [],
   "source": [
    "from fuel.datasets.cifar10 import CIFAR10\n",
    "from fuel.transformers import ScaleAndShift, Cast, Flatten, Mapping\n",
    "from fuel.streams import DataStream\n",
    "from fuel.schemes import SequentialScheme, ShuffledScheme"
   ]
  },
  {
   "cell_type": "code",
   "execution_count": 4,
   "metadata": {
    "collapsed": true
   },
   "outputs": [],
   "source": [
    "CIFAR10.default_transformers = (\n",
    "    (ScaleAndShift, [2.0 / 255.0, -1], {'which_sources': 'features'}),\n",
    "    (Cast, [np.float32], {'which_sources': 'features'})\n",
    ")\n",
    "\n",
    "\n",
    "cifar10_train = CIFAR10((\"train\",), subset=slice(None, 40000))\n",
    "cifar10_train_stream = DataStream.default_stream(\n",
    "    cifar10_train,\n",
    "    iteration_scheme=ShuffledScheme(cifar10_train.num_examples, 25)\n",
    ")\n",
    "\n",
    "cifar10_validation = CIFAR10((\"train\",), subset=slice(40000, None))\n",
    "cifar10_validation_stream = DataStream.default_stream(\n",
    "    cifar10_validation, \n",
    "    iteration_scheme=SequentialScheme(cifar10_validation.num_examples, 100)\n",
    ")\n",
    "\n",
    "cifar10_test = CIFAR10((\"test\",))\n",
    "cifar10_test_stream = DataStream.default_stream(\n",
    "    cifar10_test,\n",
    "    iteration_scheme=SequentialScheme(cifar10_test.num_examples, 100)\n",
    ")"
   ]
  },
  {
   "cell_type": "code",
   "execution_count": 5,
   "metadata": {
    "collapsed": false
   },
   "outputs": [
    {
     "name": "stdout",
     "output_type": "stream",
     "text": [
      "The streams return batches containing (u'features', u'targets')\n",
      "Each trainin batch consits of a tuple containing:\n",
      " - an array of size (25, 3, 32, 32) containing float32\n",
      " - an array of size (25, 1) containing uint8\n",
      "Validation/test batches consits of tuples containing:\n",
      " - an array of size (100, 3, 32, 32) containing float32\n",
      " - an array of size (100, 1) containing uint8\n"
     ]
    }
   ],
   "source": [
    "print \"The streams return batches containing %s\" % (cifar10_train_stream.sources,)\n",
    "\n",
    "print \"Each trainin batch consits of a tuple containing:\"\n",
    "for element in next(cifar10_train_stream.get_epoch_iterator()):\n",
    "    print \" - an array of size %s containing %s\" % (element.shape, element.dtype)\n",
    "    \n",
    "print \"Validation/test batches consits of tuples containing:\"\n",
    "for element in next(cifar10_test_stream.get_epoch_iterator()):\n",
    "    print \" - an array of size %s containing %s\" % (element.shape, element.dtype)"
   ]
  },
  {
   "cell_type": "code",
   "execution_count": 6,
   "metadata": {
    "collapsed": true
   },
   "outputs": [],
   "source": [
    "def conv2d_layer(X, filter_shape, num_filters, padding='VALID', activation=None, name=None):\n",
    "    name = name or \"conv2d_layer\"\n",
    "    num_channels = X.shape[3].value\n",
    "    with tf.variable_scope(None, default_name=name):\n",
    "        F = tf.get_variable('F',\n",
    "            (filter_shape[0], filter_shape[1], num_channels, num_filters), \n",
    "            'float32', \n",
    "            initializer=tf.contrib.layers.xavier_initializer_conv2d()\n",
    "        )\n",
    "        b = tf.get_variable('b',\n",
    "            (1, 1, 1, num_filters),\n",
    "            'float32',\n",
    "            initializer=tf.zeros_initializer()\n",
    "        )\n",
    "        Y = tf.nn.conv2d(X, F, (1, 1, 1, 1), padding=padding) + b\n",
    "        return activation(Y) if activation else Y"
   ]
  },
  {
   "cell_type": "code",
   "execution_count": 7,
   "metadata": {
    "collapsed": false
   },
   "outputs": [],
   "source": [
    "def affine_layer(X, num_hidden, activation=None, name=None):\n",
    "    name = name or \"affine_layer\"\n",
    "    with tf.variable_scope(None, default_name=name):\n",
    "        W = tf.get_variable('W',\n",
    "            (X.shape[1].value, num_hidden),\n",
    "            'float32',\n",
    "            initializer=tf.contrib.layers.xavier_initializer()\n",
    "        )\n",
    "        b = tf.get_variable('b',\n",
    "            (1, num_hidden),\n",
    "            'float32',\n",
    "            initializer=tf.zeros_initializer()\n",
    "        )\n",
    "        Y = tf.matmul(X, W) + b\n",
    "        return activation(Y) if activation else Y"
   ]
  },
  {
   "cell_type": "code",
   "execution_count": 8,
   "metadata": {
    "collapsed": true
   },
   "outputs": [],
   "source": [
    "def max_pool_2x2(X, padding='VALID'):\n",
    "    return tf.nn.max_pool(X, ksize=[1, 2, 2, 1], strides=[1, 2, 2, 1], padding=padding)"
   ]
  },
  {
   "cell_type": "code",
   "execution_count": 9,
   "metadata": {
    "collapsed": false
   },
   "outputs": [],
   "source": [
    "X = tf.placeholder(shape=(None, 3, 32, 32), dtype=np.float32, name='X')\n",
    "X_NHWC = tf.transpose(X, [0, 2, 3, 1])\n",
    "Y = tf.placeholder(shape=(None, 1), dtype=np.int32, name='Y')\n",
    "\n",
    "X_flat = tf.reshape(X, (-1, np.prod(X.shape.as_list()[1:])))"
   ]
  },
  {
   "cell_type": "code",
   "execution_count": 100,
   "metadata": {
    "collapsed": true
   },
   "outputs": [],
   "source": [
    "# Network hyperparams\n",
    "\n",
    "conv_layers = [((5, 5), 64), ((5, 5), 128), ((5, 5), 256)]\n",
    "affine_layers = [1024, 512]\n",
    "\n",
    "dropout_prob = 0.8  # unused\n",
    "wd_factor = 1.0e-5  # unused\n",
    "learning_rate_v = 1.0e-4  # unused"
   ]
  },
  {
   "cell_type": "code",
   "execution_count": 101,
   "metadata": {
    "collapsed": false
   },
   "outputs": [
    {
     "name": "stdout",
     "output_type": "stream",
     "text": [
      "Input shape (?, 32, 32, 3)\n",
      "After conv shape (?, 32, 32, 64)\n",
      "After pool shape (?, 16, 16, 64)\n",
      "After conv shape (?, 16, 16, 128)\n",
      "After pool shape (?, 8, 8, 128)\n",
      "After conv shape (?, 8, 8, 256)\n",
      "After pool shape (?, 4, 4, 256)\n",
      "After flattening (?, 4096)\n",
      "After affine (?, 1024)\n",
      "After affine (?, 512)\n",
      "After affine (?, 10)\n"
     ]
    }
   ],
   "source": [
    "# Building the network\n",
    "\n",
    "L = X_NHWC\n",
    "print (\"Input shape %s\" % (L.shape,))\n",
    "\n",
    "for filter_size, num_filters in conv_layers:\n",
    "    L = conv2d_layer(L, filter_size, num_filters, activation=tf.nn.relu, padding=\"SAME\")\n",
    "    print (\"After conv shape %s\" % (L.shape,))\n",
    "    L = max_pool_2x2(L)\n",
    "    print (\"After pool shape %s\" % (L.shape,))\n",
    "    L = tf.nn.dropout(L, keep_prob=0.75)\n",
    "\n",
    "L = tf.reshape(L, (-1, np.prod(L.shape.as_list()[1:])))\n",
    "print (\"After flattening %s\" % (L.shape,))\n",
    "\n",
    "for num_hidden in affine_layers:\n",
    "    L = affine_layer(L, num_hidden, activation=tf.nn.relu)\n",
    "    print (\"After affine %s\" % (L.shape,))\n",
    "    \n",
    "L = affine_layer(L, 10)\n",
    "print (\"After affine %s\" % (L.shape,))"
   ]
  },
  {
   "cell_type": "code",
   "execution_count": 102,
   "metadata": {
    "collapsed": true
   },
   "outputs": [],
   "source": [
    "# Loss function\n",
    "\n",
    "per_example_loss = tf.nn.sparse_softmax_cross_entropy_with_logits(logits=L, labels=tf.reshape(Y, (-1,)))\n",
    "xentropy_loss = tf.reduce_mean(per_example_loss)\n",
    "\n",
    "weight_decay_loss = 0.0\n",
    "for V in tf.trainable_variables():\n",
    "    if re.match(V.name, \".*/W.*\"):\n",
    "        weight_decay_loss += 1.0e-5 * tf.reduce_sum(V**2)\n",
    "\n",
    "batch_loss = xentropy_loss + weight_decay_loss\n",
    "classification = tf.argmax(L, axis=1)"
   ]
  },
  {
   "cell_type": "code",
   "execution_count": 103,
   "metadata": {
    "collapsed": false
   },
   "outputs": [],
   "source": [
    "learning_rate = tf.get_variable('learning_rate', shape=(), dtype='float32', trainable=False)\n",
    "global_step = tf.get_variable('global_step', shape=(), dtype='int32', trainable=False)\n",
    "\n",
    "optimizer = tf.train.AdamOptimizer(learning_rate=learning_rate)\n",
    "train_op = optimizer.minimize(batch_loss)\n",
    "train_op = tf.group(train_op, tf.assign_add(global_step, 1))\n",
    "initialize_op = tf.global_variables_initializer()"
   ]
  },
  {
   "cell_type": "code",
   "execution_count": 104,
   "metadata": {
    "collapsed": false
   },
   "outputs": [],
   "source": [
    "# Session\n",
    "\n",
    "sess = tf.InteractiveSession()\n",
    "sess.run(tf.global_variables_initializer())\n",
    "sess.run(initialize_op)\n",
    "\n",
    "train_loss_history = []\n",
    "valid_loss_history = []\n",
    "epoch = 0"
   ]
  },
  {
   "cell_type": "code",
   "execution_count": 105,
   "metadata": {
    "collapsed": false
   },
   "outputs": [
    {
     "data": {
      "text/plain": [
       "9.9999997e-05"
      ]
     },
     "execution_count": 105,
     "metadata": {},
     "output_type": "execute_result"
    }
   ],
   "source": [
    "sess.run(learning_rate.assign(1e-4))"
   ]
  },
  {
   "cell_type": "code",
   "execution_count": 106,
   "metadata": {
    "collapsed": true
   },
   "outputs": [],
   "source": [
    "def calculate_success_rate(stream):\n",
    "    stats = []\n",
    "    for batch_X, batch_Y in stream.get_epoch_iterator():\n",
    "        feed_dict = {X: batch_X, Y: batch_Y}\n",
    "        res, loss = sess.run([classification, batch_loss], feed_dict=feed_dict)\n",
    "        accuracy = np.mean(res == batch_Y[:, 0])\n",
    "        stats.append((accuracy, loss))\n",
    "    return np.mean(stats, axis=0)"
   ]
  },
  {
   "cell_type": "code",
   "execution_count": 113,
   "metadata": {
    "collapsed": false
   },
   "outputs": [
    {
     "name": "stdout",
     "output_type": "stream",
     "text": [
      "epoch: 17, step: 26001, loss: 0.0650499\n",
      "epoch: 17, step: 27001, loss: 0.212272\n",
      "epoch: 17, step: 27200, valid_loss: 1.00866, valid_acc: 0.760700\n",
      "epoch: 18, step: 28001, loss: 0.181686\n",
      "epoch: 18, step: 28800, valid_loss: 1.02131, valid_acc: 0.759300\n",
      "epoch: 19, step: 29001, loss: 0.0430349\n",
      "epoch: 19, step: 30001, loss: 0.0429176\n",
      "epoch: 19, step: 30400, valid_loss: 1.09077, valid_acc: 0.759700\n"
     ]
    }
   ],
   "source": [
    "# Training\n",
    "\n",
    "global_step_v = sess.run(global_step)\n",
    "\n",
    "while global_step_v < 30000:\n",
    "    epoch += 1\n",
    "\n",
    "    for batch_X, batch_Y in cifar10_train_stream.get_epoch_iterator():\n",
    "        feed_dict = {X: batch_X, Y: batch_Y}\n",
    "        _, global_step_v, loss_v = sess.run([train_op, global_step, batch_loss], feed_dict=feed_dict)\n",
    "        if (global_step_v % 1000) == 1:\n",
    "            train_loss_history.append((epoch, global_step_v, loss_v,))\n",
    "            print (\"epoch: %d, step: %d, loss: %g\" % (epoch, global_step_v, loss_v,))\n",
    "    \n",
    "    valid_acc, valid_loss = calculate_success_rate(cifar10_validation_stream)\n",
    "    print (\"epoch: %d, step: %d, valid_loss: %g, valid_acc: %f\" % (epoch, global_step_v, valid_loss, valid_acc))\n",
    "    valid_loss_history.append((epoch, global_step_v, valid_loss, valid_acc))"
   ]
  },
  {
   "cell_type": "code",
   "execution_count": 114,
   "metadata": {
    "collapsed": false
   },
   "outputs": [
    {
     "data": {
      "text/plain": [
       "<matplotlib.legend.Legend at 0x7f1bc4b90ad0>"
      ]
     },
     "execution_count": 114,
     "metadata": {},
     "output_type": "execute_result"
    },
    {
     "data": {
      "image/png": "[encoded data removed]",
      "text/plain": [
       "<matplotlib.figure.Figure at 0x7f1bc4c8af10>"
      ]
     },
     "metadata": {},
     "output_type": "display_data"
    }
   ],
   "source": [
    "valid_stats = np.array(valid_loss_history, dtype=np.float32)\n",
    "plot(valid_stats[:, 1], valid_stats[:, 3], label='validation success rate')\n",
    "xlabel('step')\n",
    "legend(loc=4)"
   ]
  },
  {
   "cell_type": "code",
   "execution_count": 115,
   "metadata": {
    "collapsed": false
   },
   "outputs": [
    {
     "name": "stdout",
     "output_type": "stream",
     "text": [
      "Average test accuracy: 0.7565\n"
     ]
    }
   ],
   "source": [
    "print \"Average test accuracy:\", calculate_success_rate(cifar10_test_stream)[0]"
   ]
  },
  {
   "cell_type": "code",
   "execution_count": null,
   "metadata": {
    "collapsed": true
   },
   "outputs": [],
   "source": []
  }
 ],
 "metadata": {
  "kernelspec": {
   "display_name": "Python 2",
   "language": "python",
   "name": "python2"
  },
  "language_info": {
   "codemirror_mode": {
    "name": "ipython",
    "version": 2
   },
   "file_extension": ".py",
   "mimetype": "text/x-python",
   "name": "python",
   "nbconvert_exporter": "python",
   "pygments_lexer": "ipython2",
   "version": "2.7.13"
  }
 },
 "nbformat": 4,
 "nbformat_minor": 2
}
