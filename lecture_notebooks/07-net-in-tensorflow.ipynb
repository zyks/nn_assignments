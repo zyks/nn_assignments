{
 "cells": [
  {
   "cell_type": "code",
   "execution_count": 1,
   "metadata": {
    "collapsed": true
   },
   "outputs": [],
   "source": [
    "from __future__ import absolute_import\n",
    "from __future__ import division\n",
    "from __future__ import print_function"
   ]
  },
  {
   "cell_type": "code",
   "execution_count": 2,
   "metadata": {
    "collapsed": true
   },
   "outputs": [],
   "source": [
    "%matplotlib inline"
   ]
  },
  {
   "cell_type": "code",
   "execution_count": 3,
   "metadata": {
    "collapsed": true
   },
   "outputs": [],
   "source": [
    "import tensorflow as tf\n",
    "import re\n",
    "import numpy\n",
    "\n",
    "import matplotlib.pyplot as plt"
   ]
  },
  {
   "cell_type": "code",
   "execution_count": 4,
   "metadata": {
    "collapsed": false
   },
   "outputs": [
    {
     "data": {
      "text/html": [
       "<style>.container { width:100% !important; }</style>"
      ],
      "text/plain": [
       "<IPython.core.display.HTML object>"
      ]
     },
     "metadata": {},
     "output_type": "display_data"
    }
   ],
   "source": [
    "# From http://stackoverflow.com/questions/38189119/simple-way-to-visualize-a-tensorflow-graph-in-jupyter\n",
    "# make things wide\n",
    "from IPython.core.display import display, HTML\n",
    "display(HTML(\"<style>.container { width:100% !important; }</style>\"))\n",
    "\n",
    "from IPython.display import clear_output, Image, display, HTML\n",
    "\n",
    "def strip_consts(graph_def, max_const_size=32):\n",
    "    \"\"\"Strip large constant values from graph_def.\"\"\"\n",
    "    strip_def = tf.GraphDef()\n",
    "    for n0 in graph_def.node:\n",
    "        n = strip_def.node.add() \n",
    "        n.MergeFrom(n0)\n",
    "        if n.op == 'Const':\n",
    "            tensor = n.attr['value'].tensor\n",
    "            size = len(tensor.tensor_content)\n",
    "            if size > max_const_size:\n",
    "                tensor.tensor_content = \"<stripped %d bytes>\"%size\n",
    "    return strip_def\n",
    "\n",
    "def show_graph(graph_def=None, width=1200, height=800, max_const_size=32, ungroup_gradients=False):\n",
    "    if not graph_def:\n",
    "        graph_def = tf.get_default_graph().as_graph_def()\n",
    "        \n",
    "    \"\"\"Visualize TensorFlow graph.\"\"\"\n",
    "    if hasattr(graph_def, 'as_graph_def'):\n",
    "        graph_def = graph_def.as_graph_def()\n",
    "    strip_def = strip_consts(graph_def, max_const_size=max_const_size)\n",
    "    data = str(strip_def)\n",
    "    if ungroup_gradients:\n",
    "        data = data.replace('\"gradients/', '\"b_')\n",
    "        #print(data)\n",
    "    code = \"\"\"\n",
    "        <script>\n",
    "          function load() {{\n",
    "            document.getElementById(\"{id}\").pbtxt = {data};\n",
    "          }}\n",
    "        </script>\n",
    "        <link rel=\"import\" href=\"https://tensorboard.appspot.com/tf-graph-basic.build.html\" onload=load()>\n",
    "        <div style=\"height:600px\">\n",
    "          <tf-graph-basic id=\"{id}\"></tf-graph-basic>\n",
    "        </div>\n",
    "    \"\"\".format(data=repr(data), id='graph'+str(np.random.rand()))\n",
    "\n",
    "    iframe = \"\"\"\n",
    "        <iframe seamless style=\"width:{}px;height:{}px;border:0\" srcdoc=\"{}\"></iframe>\n",
    "    \"\"\".format(width, height, code.replace('\"', '&quot;'))\n",
    "    display(HTML(iframe))"
   ]
  },
  {
   "cell_type": "markdown",
   "metadata": {
    "collapsed": true
   },
   "source": [
    "Please note that the graph visualizations only work in Chrome :("
   ]
  },
  {
   "cell_type": "code",
   "execution_count": 5,
   "metadata": {
    "collapsed": false
   },
   "outputs": [],
   "source": [
    "tf.reset_default_graph()"
   ]
  },
  {
   "cell_type": "code",
   "execution_count": 6,
   "metadata": {
    "collapsed": false
   },
   "outputs": [],
   "source": [
    "# Allocate inputs and outputs\n",
    "\n",
    "# Placeholders are nodes in the graph whose values need to be \n",
    "# provded using feeds\n",
    "#\n",
    "# A note about shapes: unlike the Math convention (col-major)\n",
    "# Python is row-major and everything we do will be transposed\n",
    "X = tf.placeholder('float32', shape=(None, 2), name='X')\n",
    "Y = tf.placeholder('float32', shape=(None, 1), name='Y')"
   ]
  },
  {
   "cell_type": "code",
   "execution_count": 7,
   "metadata": {
    "collapsed": false
   },
   "outputs": [],
   "source": [
    "def affine_layer(X, num_hidden, activation=None, name=None):\n",
    "    name = name or \"affine_layer\"\n",
    "    with tf.variable_scope(None, default_name=name):\n",
    "        W = tf.get_variable('W', (X.shape[1].value, num_hidden), 'float32',\n",
    "                            initializer=tf.contrib.layers.xavier_initializer())\n",
    "        b = tf.get_variable('b', (1, num_hidden), 'float32',\n",
    "                            initializer=tf.zeros_initializer())\n",
    "        Y = tf.matmul(X, W) + b\n",
    "        if activation:\n",
    "            Y = activation(Y)\n",
    "        return Y"
   ]
  },
  {
   "cell_type": "code",
   "execution_count": 8,
   "metadata": {
    "collapsed": false
   },
   "outputs": [],
   "source": [
    "Output = affine_layer(X, 10, tf.nn.relu)\n",
    "Output = affine_layer(Output, 1)\n",
    "Loss = tf.reduce_mean(tf.nn.sigmoid_cross_entropy_with_logits(Output, Y))"
   ]
  },
  {
   "cell_type": "code",
   "execution_count": 9,
   "metadata": {
    "collapsed": false
   },
   "outputs": [],
   "source": [
    "# show_graph()"
   ]
  },
  {
   "cell_type": "code",
   "execution_count": 10,
   "metadata": {
    "collapsed": false
   },
   "outputs": [],
   "source": [
    "optimizer = tf.train.AdamOptimizer()\n",
    "train_op = optimizer.minimize(Loss)\n",
    "global_step = tf.get_variable('global_step', shape=(), dtype='int32', \n",
    "                              trainable=False)\n",
    "train_op = tf.group(train_op, tf.assign_add(global_step, 1))"
   ]
  },
  {
   "cell_type": "code",
   "execution_count": 11,
   "metadata": {
    "collapsed": true
   },
   "outputs": [],
   "source": [
    "initialize_op = tf.global_variables_initializer()"
   ]
  },
  {
   "cell_type": "code",
   "execution_count": 12,
   "metadata": {
    "collapsed": true
   },
   "outputs": [],
   "source": [
    "sess = tf.InteractiveSession()"
   ]
  },
  {
   "cell_type": "code",
   "execution_count": 13,
   "metadata": {
    "collapsed": true
   },
   "outputs": [],
   "source": [
    "sess.run(initialize_op)"
   ]
  },
  {
   "cell_type": "code",
   "execution_count": 14,
   "metadata": {
    "collapsed": false
   },
   "outputs": [
    {
     "data": {
      "text/plain": [
       "(-1.5, 1.5, -1.5, 1.5)"
      ]
     },
     "execution_count": 14,
     "metadata": {},
     "output_type": "execute_result"
    },
    {
     "data": {
      "image/png": "[encoded data removed]",
      "text/plain": [
       "<matplotlib.figure.Figure at 0x7f36e900c4d0>"
      ]
     },
     "metadata": {},
     "output_type": "display_data"
    }
   ],
   "source": [
    "DataX = np.random.rand(100, 2)*2.0 - 1.0\n",
    "DataY = np.sum((DataX**2), axis=1) < 0.5**2\n",
    "DataY = np.reshape(DataY, (-1,1))\n",
    "\n",
    "plt.scatter(DataX[:,0], DataX[:,1], c=DataY, cmap='spring')\n",
    "plt.axis('square')"
   ]
  },
  {
   "cell_type": "code",
   "execution_count": 15,
   "metadata": {
    "collapsed": false
   },
   "outputs": [
    {
     "name": "stdout",
     "output_type": "stream",
     "text": [
      "epoch: 1, step: 1, loss: 0.738859\n",
      "epoch: 101, step: 1001, loss: 0.387385\n",
      "epoch: 201, step: 2001, loss: 0.194923\n",
      "epoch: 301, step: 3001, loss: 0.130208\n",
      "epoch: 401, step: 4001, loss: 0.283437\n",
      "epoch: 501, step: 5001, loss: 0.175167\n",
      "epoch: 601, step: 6001, loss: 0.25038\n",
      "epoch: 701, step: 7001, loss: 0.010954\n",
      "epoch: 801, step: 8001, loss: 0.128881\n",
      "epoch: 901, step: 9001, loss: 0.0706301\n",
      "epoch: 1001, step: 10001, loss: 0.135202\n",
      "epoch: 1101, step: 11001, loss: 0.104901\n",
      "epoch: 1201, step: 12001, loss: 0.162626\n",
      "epoch: 1301, step: 13001, loss: 0.0747396\n",
      "epoch: 1401, step: 14001, loss: 0.0175415\n",
      "epoch: 1501, step: 15001, loss: 0.0387842\n",
      "epoch: 1601, step: 16001, loss: 0.0550907\n",
      "epoch: 1701, step: 17001, loss: 0.026703\n",
      "epoch: 1801, step: 18001, loss: 0.122204\n",
      "epoch: 1901, step: 19001, loss: 0.0205099\n",
      "epoch: 2001, step: 20001, loss: 0.0602948\n",
      "epoch: 2101, step: 21001, loss: 0.0255738\n",
      "epoch: 2201, step: 22001, loss: 0.0315488\n",
      "epoch: 2301, step: 23001, loss: 0.0119055\n",
      "epoch: 2401, step: 24001, loss: 0.0595972\n",
      "epoch: 2501, step: 25001, loss: 0.00736272\n",
      "epoch: 2601, step: 26001, loss: 0.117548\n",
      "epoch: 2701, step: 27001, loss: 0.12309\n",
      "epoch: 2801, step: 28001, loss: 0.141462\n",
      "epoch: 2901, step: 29001, loss: 0.0128847\n",
      "epoch: 3001, step: 30001, loss: 0.00206682\n",
      "epoch: 3101, step: 31001, loss: 0.0935814\n",
      "epoch: 3201, step: 32001, loss: 0.0081745\n",
      "epoch: 3301, step: 33001, loss: 0.0111338\n",
      "epoch: 3401, step: 34001, loss: 6.53679e-05\n",
      "epoch: 3501, step: 35001, loss: 0.00296222\n",
      "epoch: 3601, step: 36001, loss: 0.00747124\n",
      "epoch: 3701, step: 37001, loss: 0.0864501\n",
      "epoch: 3801, step: 38001, loss: 0.112808\n",
      "epoch: 3901, step: 39001, loss: 0.00476474\n",
      "epoch: 4001, step: 40001, loss: 0.004173\n",
      "epoch: 4101, step: 41001, loss: 0.104883\n",
      "epoch: 4201, step: 42001, loss: 0.0729608\n",
      "epoch: 4301, step: 43001, loss: 0.0384616\n",
      "epoch: 4401, step: 44001, loss: 0.039307\n",
      "epoch: 4501, step: 45001, loss: 0.00118214\n",
      "epoch: 4601, step: 46001, loss: 0.00545546\n",
      "epoch: 4701, step: 47001, loss: 0.010074\n",
      "epoch: 4801, step: 48001, loss: 0.00299721\n",
      "epoch: 4901, step: 49001, loss: 0.00143018\n",
      "epoch: 5001, step: 50001, loss: 0.0383207\n",
      "epoch: 5101, step: 51001, loss: 0.0361886\n",
      "epoch: 5201, step: 52001, loss: 0.0019431\n",
      "epoch: 5301, step: 53001, loss: 0.00179513\n",
      "epoch: 5401, step: 54001, loss: 0.0597171\n",
      "epoch: 5501, step: 55001, loss: 0.00636418\n",
      "epoch: 5601, step: 56001, loss: 0.00957457\n",
      "epoch: 5701, step: 57001, loss: 0.0540783\n",
      "epoch: 5801, step: 58001, loss: 0.00432578\n",
      "epoch: 5901, step: 59001, loss: 1.36991e-09\n",
      "epoch: 6001, step: 60001, loss: 0.00109637\n",
      "epoch: 6101, step: 61001, loss: 0.0027679\n",
      "epoch: 6201, step: 62001, loss: 0.0277487\n",
      "epoch: 6301, step: 63001, loss: 0.0276503\n",
      "epoch: 6401, step: 64001, loss: 0.0256943\n",
      "epoch: 6501, step: 65001, loss: 0.00579053\n",
      "epoch: 6601, step: 66001, loss: 0.000107837\n",
      "epoch: 6701, step: 67001, loss: 0.000252283\n",
      "epoch: 6801, step: 68001, loss: 0.00216086\n",
      "epoch: 6901, step: 69001, loss: 0.00439697\n",
      "epoch: 7001, step: 70001, loss: 0.000486712\n",
      "epoch: 7101, step: 71001, loss: 0.00385876\n",
      "epoch: 7201, step: 72001, loss: 0.0436052\n",
      "epoch: 7301, step: 73001, loss: 1.05541e-10\n",
      "epoch: 7401, step: 74001, loss: 0.0428379\n",
      "epoch: 7501, step: 75001, loss: 0.0251197\n",
      "epoch: 7601, step: 76001, loss: 0.000219448\n",
      "epoch: 7701, step: 77001, loss: 0.0262708\n",
      "epoch: 7801, step: 78001, loss: 0.00607953\n",
      "epoch: 7901, step: 79001, loss: 0.00123953\n",
      "epoch: 8001, step: 80001, loss: 0.000696913\n",
      "epoch: 8101, step: 81001, loss: 0.000391764\n",
      "epoch: 8201, step: 82001, loss: 7.15391e-05\n",
      "epoch: 8301, step: 83001, loss: 0.00360423\n",
      "epoch: 8401, step: 84001, loss: 0.000840042\n",
      "epoch: 8501, step: 85001, loss: 9.03777e-05\n",
      "epoch: 8601, step: 86001, loss: 0.00288512\n",
      "epoch: 8701, step: 87001, loss: 0.0265527\n",
      "epoch: 8801, step: 88001, loss: 0.0264466\n",
      "epoch: 8901, step: 89001, loss: 0.040117\n",
      "epoch: 9001, step: 90001, loss: 0.000299326\n",
      "epoch: 9101, step: 91001, loss: 0.0152402\n",
      "epoch: 9201, step: 92001, loss: 0.0144036\n",
      "epoch: 9301, step: 93001, loss: 0.0341174\n",
      "epoch: 9401, step: 94001, loss: 0.000750793\n",
      "epoch: 9501, step: 95001, loss: 0.0345143\n",
      "epoch: 9601, step: 96001, loss: 0.00166663\n",
      "epoch: 9701, step: 97001, loss: 0.000909246\n",
      "epoch: 9801, step: 98001, loss: 0.0143733\n",
      "epoch: 9901, step: 99001, loss: 0.0164747\n"
     ]
    }
   ],
   "source": [
    "# train for a while\n",
    "\n",
    "sess.run(initialize_op)\n",
    "\n",
    "loss_history = []\n",
    "use_batch=False\n",
    "\n",
    "global_step_v = sess.run(global_step)\n",
    "epoch = 0\n",
    "\n",
    "while global_step_v < 100000:\n",
    "    epoch += 1\n",
    "    # Batch grad descent\n",
    "    if use_batch:\n",
    "        feed_dicts=[{X:DataX, Y:DataY}]\n",
    "    else: # SGD\n",
    "        data_shuffle = np.random.permutation(DataX.shape[0])\n",
    "        feed_dicts = []\n",
    "        batch_size = 10\n",
    "        for batch_start in range(0, DataX.shape[0] - batch_size + 1, batch_size):\n",
    "            batch_idx = data_shuffle[batch_start:batch_start+batch_size]\n",
    "            feed_dicts.append({X:DataX[batch_idx], Y:DataY[batch_idx]})\n",
    "    \n",
    "    for feed_dict in feed_dicts:\n",
    "        _, global_step_v, loss_v = sess.run([train_op, global_step, Loss], feed_dict=feed_dict)\n",
    "        if (global_step_v % 1000) == 1:\n",
    "            loss_history.append((epoch, global_step_v, loss_v,))\n",
    "            print (\"epoch: %d, step: %d, loss: %g\" % (epoch, global_step_v, loss_v,))"
   ]
  },
  {
   "cell_type": "code",
   "execution_count": 16,
   "metadata": {
    "collapsed": false
   },
   "outputs": [
    {
     "data": {
      "text/plain": [
       "[<matplotlib.lines.Line2D at 0x7f36d824e510>]"
      ]
     },
     "execution_count": 16,
     "metadata": {},
     "output_type": "execute_result"
    },
    {
     "data": {
      "image/png": "[encoded data removed]",
      "text/plain": [
       "<matplotlib.figure.Figure at 0x7f36e9247e50>"
      ]
     },
     "metadata": {},
     "output_type": "display_data"
    }
   ],
   "source": [
    "loss_history = np.array(loss_history)\n",
    "plt.semilogy(loss_history[:,0], loss_history[:,2])"
   ]
  },
  {
   "cell_type": "code",
   "execution_count": 17,
   "metadata": {
    "collapsed": true
   },
   "outputs": [],
   "source": [
    "meshX = np.meshgrid(np.linspace(-1.5, 1.5, 100), np.linspace(-1.5, 1.5, 100))\n",
    "meshX = np.hstack([m.reshape(-1, 1) for m in meshX])"
   ]
  },
  {
   "cell_type": "code",
   "execution_count": 18,
   "metadata": {
    "collapsed": false
   },
   "outputs": [],
   "source": [
    "Output_v = sess.run(Output, feed_dict={X: meshX})"
   ]
  },
  {
   "cell_type": "code",
   "execution_count": 19,
   "metadata": {
    "collapsed": false
   },
   "outputs": [
    {
     "data": {
      "text/plain": [
       "(-2.0, 2.0, -2.0, 2.0)"
      ]
     },
     "execution_count": 19,
     "metadata": {},
     "output_type": "execute_result"
    },
    {
     "data": {
      "image/png": "[encoded data removed]",
      "text/plain": [
       "<matplotlib.figure.Figure at 0x7f36e8fea1d0>"
      ]
     },
     "metadata": {},
     "output_type": "display_data"
    }
   ],
   "source": [
    "plt.contourf(meshX[:,0].reshape(100,100), meshX[:,1].reshape(100,100), Output_v.reshape(100,100))\n",
    "plt.scatter(DataX[:,0], DataX[:,1], c=DataY, cmap='spring')\n",
    "plt.axis('square')"
   ]
  },
  {
   "cell_type": "code",
   "execution_count": 20,
   "metadata": {
    "collapsed": false
   },
   "outputs": [],
   "source": [
    "# show_graph()"
   ]
  },
  {
   "cell_type": "markdown",
   "metadata": {},
   "source": [
    "Network on MNIST"
   ]
  },
  {
   "cell_type": "code",
   "execution_count": 21,
   "metadata": {
    "collapsed": false
   },
   "outputs": [
    {
     "name": "stderr",
     "output_type": "stream",
     "text": [
      "Couldn't import dot_parser, loading of dot files will not be possible.\n"
     ]
    }
   ],
   "source": [
    "from fuel.datasets.mnist import MNIST\n",
    "from fuel.transformers import ScaleAndShift, Cast, Flatten, Mapping\n",
    "from fuel.streams import DataStream\n",
    "from fuel.schemes import SequentialScheme, ShuffledScheme\n",
    "\n",
    "MNIST.default_transformers = (\n",
    "    (ScaleAndShift, [2.0 / 255.0, -1], {'which_sources': 'features'}),\n",
    "    (Cast, [np.float32], {'which_sources': 'features'}))\n",
    "\n",
    "mnist_train = MNIST((\"train\",), subset=slice(None,50000))\n",
    "#this stream will shuffle the MNIST set and return us batches of 100 examples\n",
    "mnist_train_stream = DataStream.default_stream(\n",
    "    mnist_train,\n",
    "    iteration_scheme=ShuffledScheme(mnist_train.num_examples, 25))\n",
    "                                               \n",
    "mnist_validation = MNIST((\"train\",), subset=slice(50000, None))\n",
    "\n",
    "# We will use larger portions for testing and validation\n",
    "# as these dont do a backward pass and reauire less RAM.\n",
    "mnist_validation_stream = DataStream.default_stream(\n",
    "    mnist_validation, iteration_scheme=SequentialScheme(mnist_validation.num_examples, 100))\n",
    "mnist_test = MNIST((\"test\",))\n",
    "mnist_test_stream = DataStream.default_stream(\n",
    "    mnist_test, iteration_scheme=SequentialScheme(mnist_test.num_examples, 100))"
   ]
  },
  {
   "cell_type": "code",
   "execution_count": 22,
   "metadata": {
    "collapsed": false
   },
   "outputs": [
    {
     "name": "stdout",
     "output_type": "stream",
     "text": [
      "The streams return batches containing (u'features', u'targets')\n",
      "Each trainin batch consits of a tuple containing:\n",
      " - an array of size (25, 1, 28, 28) containing float32\n",
      " - an array of size (25, 1) containing uint8\n",
      "Validation/test batches consits of tuples containing:\n",
      " - an array of size (100, 1, 28, 28) containing float32\n",
      " - an array of size (100, 1) containing uint8\n"
     ]
    }
   ],
   "source": [
    "print(\"The streams return batches containing %s\" % (mnist_train_stream.sources,))\n",
    "\n",
    "print(\"Each trainin batch consits of a tuple containing:\")\n",
    "for element in next(mnist_train_stream.get_epoch_iterator()):\n",
    "    print(\" - an array of size %s containing %s\" % (element.shape, element.dtype))\n",
    "    \n",
    "print(\"Validation/test batches consits of tuples containing:\")\n",
    "for element in next(mnist_test_stream.get_epoch_iterator()):\n",
    "    print(\" - an array of size %s containing %s\" % (element.shape, element.dtype))"
   ]
  },
  {
   "cell_type": "code",
   "execution_count": 23,
   "metadata": {
    "collapsed": false
   },
   "outputs": [
    {
     "data": {
      "text/plain": [
       "<matplotlib.colorbar.Colorbar at 0x7f365fa0a390>"
      ]
     },
     "execution_count": 23,
     "metadata": {},
     "output_type": "execute_result"
    },
    {
     "data": {
      "image/png": "[encoded data removed]",
      "text/plain": [
       "<matplotlib.figure.Figure at 0x7f36dcafaf90>"
      ]
     },
     "metadata": {},
     "output_type": "display_data"
    }
   ],
   "source": [
    "from common.plotting import plot_mat\n",
    "\n",
    "mnist_X,mnist_Y= next(mnist_train_stream.get_epoch_iterator())\n",
    "\n",
    "plot_mat(mnist_X, cmap='gray')\n",
    "plt.colorbar()"
   ]
  },
  {
   "cell_type": "code",
   "execution_count": 24,
   "metadata": {
    "collapsed": true
   },
   "outputs": [],
   "source": [
    "def conv2d_layer(X, filter_shape, num_filters, activation=None, name=None):\n",
    "    name = name or \"conv2d_layer\"\n",
    "    num_channels = X.shape[3].value\n",
    "    with tf.variable_scope(None, default_name=name):\n",
    "        F = tf.get_variable('F', (filter_shape[0], filter_shape[1], num_channels, num_filters), 'float32',\n",
    "                            initializer=tf.contrib.layers.xavier_initializer_conv2d())\n",
    "        b = tf.get_variable('b', (1, 1, 1, num_filters), 'float32',\n",
    "                            initializer=tf.zeros_initializer())\n",
    "        Y = tf.nn.conv2d(X, F, (1, 1, 1, 1), padding='VALID') + b\n",
    "        if activation:\n",
    "            Y = activation(Y)\n",
    "        return Y"
   ]
  },
  {
   "cell_type": "code",
   "execution_count": 25,
   "metadata": {
    "collapsed": true
   },
   "outputs": [],
   "source": [
    "tf.reset_default_graph()"
   ]
  },
  {
   "cell_type": "code",
   "execution_count": 26,
   "metadata": {
    "collapsed": false
   },
   "outputs": [],
   "source": [
    "# X is batch_size x num_channels x width x heigth\n",
    "X = tf.placeholder(shape=(None, 1, 28, 28), dtype=np.float32, name='X')\n",
    "X_NHWC = tf.transpose(X, [0, 2, 3, 1])\n",
    "Y = tf.placeholder(shape=(None, 1), dtype=np.int32, name='Y')\n",
    "\n",
    "X_flat = tf.reshape(X, (-1, np.prod(X.shape.as_list()[1:])))"
   ]
  },
  {
   "cell_type": "code",
   "execution_count": 27,
   "metadata": {
    "collapsed": false
   },
   "outputs": [
    {
     "name": "stdout",
     "output_type": "stream",
     "text": [
      "Input shape (?, 28, 28, 1)\n",
      "After conv shape (?, 24, 24, 10)\n",
      "After pool shape (?, 12, 12, 10)\n",
      "After conv shape (?, 8, 8, 25)\n",
      "After pool shape (?, 4, 4, 25)\n",
      "After flattening (?, 400)\n",
      "After affine (?, 400)\n",
      "After affine (?, 400)\n"
     ]
    }
   ],
   "source": [
    "if 0:\n",
    "    L = X_flat\n",
    "else:\n",
    "    L = X_NHWC\n",
    "    print (\"Input shape %s\" % (L.shape,))\n",
    "    for filter_size, num_filters in [(5, 10), (3, 25)]:\n",
    "        L = conv2d_layer(L, (5, 5), num_filters, activation=tf.nn.relu)\n",
    "        print (\"After conv shape %s\" % (L.shape,))\n",
    "        L = tf.nn.max_pool(L, (1, 2, 2, 1), (1, 2, 2, 1), padding='VALID')\n",
    "        L = tf.nn.dropout(L, keep_prob=0.8)\n",
    "        print (\"After pool shape %s\" % (L.shape,))\n",
    "    L = tf.reshape(L, (-1, np.prod(L.shape.as_list()[1:])))\n",
    "    print (\"After flattening %s\" % (L.shape,))\n",
    "    \n",
    "for layer_dim in [400, 400]:\n",
    "    L = affine_layer(L, layer_dim, activation=tf.nn.relu)\n",
    "    print (\"After affine %s\" % (L.shape,))\n",
    "    L = tf.nn.dropout(L, keep_prob=0.8)\n",
    "L = affine_layer(L, 10)\n",
    "\n",
    "per_example_loss = tf.nn.sparse_softmax_cross_entropy_with_logits(L, tf.reshape(Y, (-1,)))\n",
    "xentropy_loss = tf.reduce_mean(per_example_loss)\n",
    "\n",
    "weight_decay_loss = 0.0\n",
    "for V in tf.trainable_variables():\n",
    "    if re.match(V.name, \".*/W.*\"):\n",
    "        weight_decay_loss += 1.0e-5 * tf.reduce_sum(V**2)\n",
    "\n",
    "\n",
    "batch_loss = xentropy_loss + weight_decay_loss\n",
    "classification = tf.argmax(L, axis=1)"
   ]
  },
  {
   "cell_type": "code",
   "execution_count": 28,
   "metadata": {
    "collapsed": false
   },
   "outputs": [],
   "source": [
    "learning_rate = tf.get_variable('learning_rate', shape=(), dtype='float32', \n",
    "                              trainable=False)\n",
    "\n",
    "optimizer = tf.train.AdamOptimizer(learning_rate=learning_rate)\n",
    "train_op = optimizer.minimize(batch_loss)\n",
    "global_step = tf.get_variable('global_step', shape=(), dtype='int32', \n",
    "                              trainable=False)\n",
    "train_op = tf.group(train_op, tf.assign_add(global_step, 1))\n",
    "initialize_op = tf.global_variables_initializer()"
   ]
  },
  {
   "cell_type": "code",
   "execution_count": 29,
   "metadata": {
    "collapsed": false
   },
   "outputs": [],
   "source": [
    "# show_graph()"
   ]
  },
  {
   "cell_type": "code",
   "execution_count": 30,
   "metadata": {
    "collapsed": true
   },
   "outputs": [],
   "source": [
    "sess = tf.InteractiveSession()\n",
    "sess.run(tf.global_variables_initializer())\n",
    "sess.run(initialize_op)\n",
    "\n",
    "train_loss_history = []\n",
    "valid_loss_history = []\n",
    "epoch = 0"
   ]
  },
  {
   "cell_type": "code",
   "execution_count": 31,
   "metadata": {
    "collapsed": false
   },
   "outputs": [
    {
     "data": {
      "text/plain": [
       "9.9999997e-05"
      ]
     },
     "execution_count": 31,
     "metadata": {},
     "output_type": "execute_result"
    }
   ],
   "source": [
    "sess.run(learning_rate.assign(1e-4))"
   ]
  },
  {
   "cell_type": "code",
   "execution_count": 32,
   "metadata": {
    "collapsed": false
   },
   "outputs": [
    {
     "ename": "AttributeError",
     "evalue": "'numpy.ndarray' object has no attribute 'append'",
     "output_type": "error",
     "traceback": [
      "\u001b[1;31m---------------------------------------------------------------------------\u001b[0m",
      "\u001b[1;31mAttributeError\u001b[0m                            Traceback (most recent call last)",
      "\u001b[1;32m<ipython-input-32-f0074b6836e7>\u001b[0m in \u001b[0;36m<module>\u001b[1;34m()\u001b[0m\n\u001b[0;32m      8\u001b[0m         \u001b[0m_\u001b[0m\u001b[1;33m,\u001b[0m \u001b[0mglobal_step_v\u001b[0m\u001b[1;33m,\u001b[0m \u001b[0mloss_v\u001b[0m \u001b[1;33m=\u001b[0m \u001b[0msess\u001b[0m\u001b[1;33m.\u001b[0m\u001b[0mrun\u001b[0m\u001b[1;33m(\u001b[0m\u001b[1;33m[\u001b[0m\u001b[0mtrain_op\u001b[0m\u001b[1;33m,\u001b[0m \u001b[0mglobal_step\u001b[0m\u001b[1;33m,\u001b[0m \u001b[0mbatch_loss\u001b[0m\u001b[1;33m]\u001b[0m\u001b[1;33m,\u001b[0m \u001b[0mfeed_dict\u001b[0m\u001b[1;33m=\u001b[0m\u001b[0mfeed_dict\u001b[0m\u001b[1;33m)\u001b[0m\u001b[1;33m\u001b[0m\u001b[0m\n\u001b[0;32m      9\u001b[0m         \u001b[1;32mif\u001b[0m \u001b[1;33m(\u001b[0m\u001b[0mglobal_step_v\u001b[0m \u001b[1;33m%\u001b[0m \u001b[1;36m1000\u001b[0m\u001b[1;33m)\u001b[0m \u001b[1;33m==\u001b[0m \u001b[1;36m1\u001b[0m\u001b[1;33m:\u001b[0m\u001b[1;33m\u001b[0m\u001b[0m\n\u001b[1;32m---> 10\u001b[1;33m             \u001b[0mloss_history\u001b[0m\u001b[1;33m.\u001b[0m\u001b[0mappend\u001b[0m\u001b[1;33m(\u001b[0m\u001b[1;33m(\u001b[0m\u001b[0mepoch\u001b[0m\u001b[1;33m,\u001b[0m \u001b[0mglobal_step_v\u001b[0m\u001b[1;33m,\u001b[0m \u001b[0mloss_v\u001b[0m\u001b[1;33m,\u001b[0m\u001b[1;33m)\u001b[0m\u001b[1;33m)\u001b[0m\u001b[1;33m\u001b[0m\u001b[0m\n\u001b[0m\u001b[0;32m     11\u001b[0m             \u001b[1;32mprint\u001b[0m \u001b[1;33m(\u001b[0m\u001b[1;34m\"epoch: %d, step: %d, loss: %g\"\u001b[0m \u001b[1;33m%\u001b[0m \u001b[1;33m(\u001b[0m\u001b[0mepoch\u001b[0m\u001b[1;33m,\u001b[0m \u001b[0mglobal_step_v\u001b[0m\u001b[1;33m,\u001b[0m \u001b[0mloss_v\u001b[0m\u001b[1;33m,\u001b[0m\u001b[1;33m)\u001b[0m\u001b[1;33m)\u001b[0m\u001b[1;33m\u001b[0m\u001b[0m\n\u001b[0;32m     12\u001b[0m \u001b[1;33m\u001b[0m\u001b[0m\n",
      "\u001b[1;31mAttributeError\u001b[0m: 'numpy.ndarray' object has no attribute 'append'"
     ]
    }
   ],
   "source": [
    "# train for a while\n",
    "global_step_v = sess.run(global_step)\n",
    "\n",
    "while global_step_v < 100000:\n",
    "    epoch += 1\n",
    "    for batch_X, batch_Y in mnist_train_stream.get_epoch_iterator():\n",
    "        feed_dict = {X: batch_X, Y: batch_Y}\n",
    "        _, global_step_v, loss_v = sess.run([train_op, global_step, batch_loss], feed_dict=feed_dict)\n",
    "        if (global_step_v % 1000) == 1:\n",
    "            loss_history.append((epoch, global_step_v, loss_v,))\n",
    "            print (\"epoch: %d, step: %d, loss: %g\" % (epoch, global_step_v, loss_v,))\n",
    "    \n",
    "    test_stats = []\n",
    "    for batch_X, batch_Y in mnist_validation_stream.get_epoch_iterator():\n",
    "        feed_dict = {X: batch_X, Y: batch_Y}\n",
    "        classification_v, batch_loss_v = sess.run([classification, batch_loss], feed_dict=feed_dict)\n",
    "        batch_accuracy = np.mean(classification_v == batch_Y[:,0])\n",
    "        test_stats.append((batch_accuracy, batch_loss_v)) \n",
    "    valid_acc, valid_batch_loss = np.mean(test_stats, axis=0)\n",
    "    print (\"epoch: %d, step: %d, valid_loss: %g, valid_acc: %f\" % (epoch, global_step_v, valid_batch_loss, valid_acc))\n",
    "    valid_loss_history.append((epoch, global_step_v, valid_batch_loss, valid_acc))\n",
    "    "
   ]
  },
  {
   "cell_type": "code",
   "execution_count": null,
   "metadata": {
    "collapsed": false
   },
   "outputs": [],
   "source": [
    "vars = {V.name: V for V in tf.trainable_variables()}\n",
    "F1_v = sess.run(vars['conv2d_layer/F:0'])"
   ]
  },
  {
   "cell_type": "code",
   "execution_count": null,
   "metadata": {
    "collapsed": false
   },
   "outputs": [],
   "source": [
    "F1_v.shape"
   ]
  },
  {
   "cell_type": "code",
   "execution_count": null,
   "metadata": {
    "collapsed": false
   },
   "outputs": [],
   "source": [
    "plot_mat(F1_v.transpose(3, 2, 0, 1), cmap='gray')"
   ]
  },
  {
   "cell_type": "code",
   "execution_count": null,
   "metadata": {
    "collapsed": true
   },
   "outputs": [],
   "source": []
  }
 ],
 "metadata": {
  "kernelspec": {
   "display_name": "Python 2",
   "language": "python",
   "name": "python2"
  },
  "language_info": {
   "codemirror_mode": {
    "name": "ipython",
    "version": 2
   },
   "file_extension": ".py",
   "mimetype": "text/x-python",
   "name": "python",
   "nbconvert_exporter": "python",
   "pygments_lexer": "ipython2",
   "version": "2.7.13"
  }
 },
 "nbformat": 4,
 "nbformat_minor": 2
}
