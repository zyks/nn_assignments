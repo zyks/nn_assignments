{
 "cells": [
  {
   "cell_type": "code",
   "execution_count": 68,
   "metadata": {
    "collapsed": false
   },
   "outputs": [],
   "source": [
    "from __future__ import division\n",
    "from __future__ import print_function\n",
    "\n",
    "import numpy as np"
   ]
  },
  {
   "cell_type": "markdown",
   "metadata": {},
   "source": [
    "## Problem 4. Naive Bayes classifier"
   ]
  },
  {
   "cell_type": "markdown",
   "metadata": {},
   "source": [
    "b)"
   ]
  },
  {
   "cell_type": "code",
   "execution_count": 15,
   "metadata": {
    "collapsed": false
   },
   "outputs": [],
   "source": [
    "_p_char_lang = {\n",
    "    'a': {\n",
    "        'E': 0.08167,\n",
    "        'P': 0.10503,\n",
    "        'S': 0.11525\n",
    "    },\n",
    "    'e': {\n",
    "        'E': 0.12702,\n",
    "        'P': 0.07352,\n",
    "        'S': 0.12181\n",
    "    },\n",
    "    'i': {\n",
    "        'E': 0.06966,\n",
    "        'P': 0.08328,\n",
    "        'S': 0.06247\n",
    "    },\n",
    "    'o': {\n",
    "        'E': 0.07507,\n",
    "        'P': 0.02445,\n",
    "        'S': 0.08683\n",
    "    },\n",
    "    'u': {\n",
    "        'E': 0.02758,\n",
    "        'P': 0.02062,\n",
    "        'S': 0.02927\n",
    "    },\n",
    "    'y': {\n",
    "        'E': 0.01974,\n",
    "        'P': 0.03206,\n",
    "        'S': 0.01008\n",
    "    },\n",
    "    'other': {\n",
    "        'E': 0.59926,\n",
    "        'P': 0.66104,\n",
    "        'S': 0.57429\n",
    "    }\n",
    "}\n",
    "\n",
    "\n",
    "def is_vovel(char):\n",
    "    return char in ['a', 'e', 'i', 'o', 'u', 'y']\n",
    "\n",
    "\n",
    "def p_char_lang(char, lang):\n",
    "    return _p_char_lang[char][lang] if is_vovel(char) else _p_char_lang['other'][lang]            "
   ]
  },
  {
   "cell_type": "code",
   "execution_count": 16,
   "metadata": {
    "collapsed": true
   },
   "outputs": [],
   "source": [
    "p_lang = {\n",
    "    'E': 1. / 3.,\n",
    "    'P': 1. / 3.,\n",
    "    'S': 1. / 3.\n",
    "}\n",
    "\n",
    "\n",
    "def classify(phrase):\n",
    "    languages = ['E', 'P', 'S']\n",
    "    characters_p_product = {l: 1 for l in languages}\n",
    "    p_phrase = 0\n",
    "    \n",
    "    for l in languages:\n",
    "        characters_p_product[l] *= p_lang[l]\n",
    "        for c in phrase:\n",
    "            if c.isalpha():\n",
    "                characters_p_product[l] *= p_char_lang(c, l)\n",
    "        p_phrase += characters_p_product[l]\n",
    "\n",
    "    for l in languages:\n",
    "        print(\"p({}|{}) = {}\".format(l, phrase, characters_p_product[l] / p_phrase))"
   ]
  },
  {
   "cell_type": "code",
   "execution_count": 28,
   "metadata": {
    "collapsed": false
   },
   "outputs": [
    {
     "name": "stdout",
     "output_type": "stream",
     "text": [
      "p(E|bull) = 0.340414336935\n",
      "p(P|bull) = 0.341617091735\n",
      "p(S|bull) = 0.31796857133\n",
      "\n",
      "p(E|borro) = 0.431059121511\n",
      "p(P|borro) = 0.0613760710772\n",
      "p(S|borro) = 0.507564807412\n",
      "\n",
      "p(E|kurczak) = 0.264483743406\n",
      "p(P|kurczak) = 0.415342565495\n",
      "p(S|kurczak) = 0.3201736911\n",
      "\n",
      "p(E|pollo) = 0.431059121511\n",
      "p(P|pollo) = 0.0613760710772\n",
      "p(S|pollo) = 0.507564807412\n",
      "\n",
      "p(E|litwo, ojczyzno moja, ty jestes jak zdrowie) = 0.742553556779\n",
      "p(P|litwo, ojczyzno moja, ty jestes jak zdrowie) = 0.0258285775075\n",
      "p(S|litwo, ojczyzno moja, ty jestes jak zdrowie) = 0.231617865713\n",
      "\n",
      "p(E|mama just killed a man put a gun against his head) = 0.043895629255\n",
      "p(P|mama just killed a man put a gun against his head) = 0.750474292668\n",
      "p(S|mama just killed a man put a gun against his head) = 0.205630078077\n",
      "\n",
      "p(E|maradona es mas grande que pele) = 0.233087590452\n",
      "p(P|maradona es mas grande que pele) = 0.0512296390136\n",
      "p(S|maradona es mas grande que pele) = 0.715682770534\n",
      "\n"
     ]
    }
   ],
   "source": [
    "test_phrases = [\n",
    "    \"bull\", \"borro\", \"kurczak\", \"pollo\", \n",
    "    \"litwo, ojczyzno moja, ty jestes jak zdrowie\",\n",
    "    \"mama just killed a man put a gun against his head\",\n",
    "    \"maradona es mas grande que pele\"\n",
    "]\n",
    "\n",
    "for phrase in test_phrases:\n",
    "    classify(phrase)\n",
    "    print(\"\")"
   ]
  },
  {
   "cell_type": "markdown",
   "metadata": {
    "collapsed": true
   },
   "source": [
    "c)"
   ]
  },
  {
   "cell_type": "code",
   "execution_count": 34,
   "metadata": {
    "collapsed": false
   },
   "outputs": [
    {
     "name": "stdout",
     "output_type": "stream",
     "text": [
      "p(E|bull) = 0.509722622484\n",
      "p(P|bull) = 0.204609431497\n",
      "p(S|bull) = 0.285667946019\n",
      "\n",
      "p(E|borro) = 0.567072300632\n",
      "p(P|borro) = 0.0322968874502\n",
      "p(S|borro) = 0.400630811917\n",
      "\n",
      "p(E|kurczak) = 0.424719980873\n",
      "p(P|kurczak) = 0.266790365565\n",
      "p(S|kurczak) = 0.308489653562\n",
      "\n",
      "p(E|pollo) = 0.567072300632\n",
      "p(P|pollo) = 0.0322968874502\n",
      "p(S|pollo) = 0.400630811917\n",
      "\n",
      "p(E|litwo, ojczyzno moja, ty jestes jak zdrowie) = 0.832593827428\n",
      "p(P|litwo, ojczyzno moja, ty jestes jak zdrowie) = 0.011584195649\n",
      "p(S|litwo, ojczyzno moja, ty jestes jak zdrowie) = 0.155821976924\n",
      "\n",
      "p(E|mama just killed a man put a gun against his head) = 0.0939017469528\n",
      "p(P|mama just killed a man put a gun against his head) = 0.642167325729\n",
      "p(S|mama just killed a man put a gun against his head) = 0.263930927318\n",
      "\n",
      "p(E|maradona es mas grande que pele) = 0.34127570644\n",
      "p(P|maradona es mas grande que pele) = 0.0300031952985\n",
      "p(S|maradona es mas grande que pele) = 0.628721098262\n",
      "\n"
     ]
    }
   ],
   "source": [
    "p_lang = {\n",
    "    'E': 0.5,\n",
    "    'P': 0.2,\n",
    "    'S': 0.3\n",
    "}\n",
    "\n",
    "for phrase in test_phrases:\n",
    "    classify(phrase)\n",
    "    print(\"\")"
   ]
  },
  {
   "cell_type": "markdown",
   "metadata": {},
   "source": [
    "d)"
   ]
  },
  {
   "cell_type": "code",
   "execution_count": 36,
   "metadata": {
    "collapsed": false
   },
   "outputs": [
    {
     "name": "stdout",
     "output_type": "stream",
     "text": [
      "p(E|postman pat, postman pat, postman pat and his black and white cat) = 0.0936019124949\n",
      "p(P|postman pat, postman pat, postman pat and his black and white cat) = 0.452883221469\n",
      "p(S|postman pat, postman pat, postman pat and his black and white cat) = 0.453514866036\n"
     ]
    }
   ],
   "source": [
    "phrase = \"postman pat, postman pat, postman pat and his black and white cat\"\n",
    "classify(phrase)"
   ]
  },
  {
   "cell_type": "markdown",
   "metadata": {},
   "source": [
    "## Problem 7.\n",
    "a)"
   ]
  },
  {
   "cell_type": "code",
   "execution_count": 88,
   "metadata": {
    "collapsed": false
   },
   "outputs": [
    {
     "name": "stdout",
     "output_type": "stream",
     "text": [
      "R :  {'P': 0, 'S': 6, 'R': 1}\n",
      "P :  {'P': 4, 'S': 3, 'R': 4}\n",
      "S :  {'P': 7, 'S': 2, 'R': 2}\n"
     ]
    }
   ],
   "source": [
    "sequence = \"PPRSSRSPPRSPRRSPPPSSPRSPSPSRSP\"\n",
    "symbols = ['R', 'P', 'S']\n",
    "p_first_symbol = 1. / 3.\n",
    "\n",
    "# [X][Y] counts choices of Y if the most recent symbol was X\n",
    "counter = {s: {s: 0 for s in symbols} for s in symbols}\n",
    "\n",
    "for i in range(len(sequence) - 1):\n",
    "    counter[sequence[i]][sequence[i+1]] += 1\n",
    "\n",
    "for s in symbols:\n",
    "    print(s, \": \", counter[s])"
   ]
  },
  {
   "cell_type": "code",
   "execution_count": 95,
   "metadata": {
    "collapsed": false
   },
   "outputs": [
    {
     "name": "stdout",
     "output_type": "stream",
     "text": [
      "CONFIGURATION:\n",
      "p(R|first) = 0.333333333333\n",
      "p(P|first) = 0.333333333333\n",
      "p(S|first) = 0.333333333333\n",
      "\n",
      "p(P|P) = 0.363636363636\n",
      "p(S|P) = 0.272727272727\n",
      "p(R|P) = 0.363636363636\n",
      "\n",
      "p(P|S) = 0.636363636364\n",
      "p(S|S) = 0.181818181818\n",
      "p(R|S) = 0.181818181818\n",
      "\n",
      "p(P|R) = 0.0\n",
      "p(S|R) = 0.857142857143\n",
      "p(R|R) = 0.142857142857\n",
      "\n"
     ]
    }
   ],
   "source": [
    "print(\"CONFIGURATION:\")\n",
    "\n",
    "for s in symbols:\n",
    "    print(\"p({}|first) = {}\".format(s, 1 / 3))\n",
    "print()\n",
    "\n",
    "# [X][Y] is probability of choosing Y if the most recent symbol was X\n",
    "klapaucius_config = {\n",
    "    prev: {\n",
    "        curr: counts[curr] / sum(counts.values())\n",
    "        for curr in counts\n",
    "    }\n",
    "    for prev, counts in counter.iteritems()\n",
    "}\n",
    "\n",
    "for prev, conf in klapaucius_config.iteritems():\n",
    "    for curr, p_curr_prev in conf.iteritems():\n",
    "        print(\"p({}|{}) = {}\".format(curr, prev, p_curr_prev))\n",
    "    print()"
   ]
  },
  {
   "cell_type": "markdown",
   "metadata": {},
   "source": [
    "b)"
   ]
  },
  {
   "cell_type": "code",
   "execution_count": 108,
   "metadata": {
    "collapsed": false
   },
   "outputs": [],
   "source": [
    "sequence = \"PPRSSRSPPRSPRRSPPPSSPRSPSPSRSP\"\n",
    "sequence_len = len(sequence)\n",
    "trurl_config = {\n",
    "    'R': sequence.count('R') / sequence_len,\n",
    "    'P': sequence.count('P') / sequence_len,\n",
    "    'S': sequence.count('S') / sequence_len\n",
    "}"
   ]
  },
  {
   "cell_type": "code",
   "execution_count": 107,
   "metadata": {
    "collapsed": false
   },
   "outputs": [
    {
     "name": "stdout",
     "output_type": "stream",
     "text": [
      "CONFIGURATION:\n",
      "p(P) = 0.4\n",
      "p(S) = 0.366666666667\n",
      "p(R) = 0.233333333333\n"
     ]
    }
   ],
   "source": [
    "print(\"CONFIGURATION:\")\n",
    "for s, p_s in trurl_config.iteritems():\n",
    "    print(\"p({}) = {}\".format(s, p_s))"
   ]
  },
  {
   "cell_type": "markdown",
   "metadata": {},
   "source": [
    "Game:"
   ]
  },
  {
   "cell_type": "code",
   "execution_count": 146,
   "metadata": {
    "collapsed": true
   },
   "outputs": [],
   "source": [
    "def get_trurl_move():\n",
    "    pbb = trurl_config\n",
    "    return np.random.choice(['R', 'P', 'S'], p=[pbb['R'], pbb['P'], pbb['S']])"
   ]
  },
  {
   "cell_type": "code",
   "execution_count": 145,
   "metadata": {
    "collapsed": false
   },
   "outputs": [],
   "source": [
    "def get_klapaucius_move(last_move):\n",
    "    if last_move is None:\n",
    "        return np.random.choice(['R', 'P', 'S'])\n",
    "    \n",
    "    pbb = klapaucius_config[last_move]\n",
    "    return np.random.choice(['R', 'P', 'S'], p=[pbb['R'], pbb['P'], pbb['S']])"
   ]
  },
  {
   "cell_type": "code",
   "execution_count": 152,
   "metadata": {
    "collapsed": true
   },
   "outputs": [],
   "source": [
    "winning_pairs = [('R', 'S'), ('S', 'P'), ('P', 'R')]\n",
    "\n",
    "def check_victory(move1, move2):\n",
    "    if move1 == move2:\n",
    "        return 0\n",
    "    if (move1, move2) in winning_pairs:\n",
    "        return 1\n",
    "    return -1"
   ]
  },
  {
   "cell_type": "code",
   "execution_count": 153,
   "metadata": {
    "collapsed": false
   },
   "outputs": [
    {
     "name": "stdout",
     "output_type": "stream",
     "text": [
      "Klapaucius wins: 500201\n",
      "Trurl wins: 499799\n"
     ]
    }
   ],
   "source": [
    "rounds = 1000000\n",
    "klapaucius_wins_count = 0\n",
    "trurl_wins_count = 0\n",
    "\n",
    "for _ in range(rounds):\n",
    "    klapaucius_last_move = None\n",
    "    state = 0\n",
    "    while state == 0:\n",
    "        klapaucius_last_move = get_klapaucius_move(klapaucius_last_move)\n",
    "        trurl_last_move = get_trurl_move()\n",
    "        state = check_victory(klapaucius_last_move, trurl_last_move)\n",
    "    \n",
    "    klapaucius_wins_count += (state == 1)\n",
    "    trurl_wins_count += (state == -1)\n",
    "\n",
    "print(\"Klapaucius wins:\", klapaucius_wins_count)\n",
    "print(\"Trurl wins:\", trurl_wins_count)"
   ]
  },
  {
   "cell_type": "markdown",
   "metadata": {},
   "source": [
    "## Problem 6."
   ]
  },
  {
   "cell_type": "code",
   "execution_count": 42,
   "metadata": {
    "collapsed": false
   },
   "outputs": [
    {
     "data": {
      "image/png": "[encoded data removed]",
      "text/plain": [
       "<matplotlib.figure.Figure at 0x7f6ff96d69d0>"
      ]
     },
     "metadata": {},
     "output_type": "display_data"
    }
   ],
   "source": [
    "from __future__ import division\n",
    "import numpy as np\n",
    "import matplotlib.pyplot as plt\n",
    "from scipy.special import binom\n",
    "\n",
    "\n",
    "def L(p, k, n):\n",
    "    return binom(n, k) * (p ** k) * (1 - p) ** (n - k)\n",
    "\n",
    "\n",
    "def solve(n, p):\n",
    "    successes = np.random.binomial(n, p)\n",
    "    plt.axvline(successes / n, color='r', label='sample mean')\n",
    "    xline = np.linspace(0.0, 1.0, 1000)\n",
    "    yline = L(xline, successes, n)\n",
    "    plt.plot(xline, yline)\n",
    "    plt.xlabel('p')\n",
    "    plt.ylabel('L(p; x)')\n",
    "    plt.legend(loc='upper right')\n",
    "    plt.title('Likelihood for {} Bernoulli trials with p = {}'.format(n, p))\n",
    "    plt.show()\n",
    "\n",
    "    \n",
    "solve(1000, 0.4)"
   ]
  }
 ],
 "metadata": {
  "kernelspec": {
   "display_name": "Python 2",
   "language": "python",
   "name": "python2"
  },
  "language_info": {
   "codemirror_mode": {
    "name": "ipython",
    "version": 2
   },
   "file_extension": ".py",
   "mimetype": "text/x-python",
   "name": "python",
   "nbconvert_exporter": "python",
   "pygments_lexer": "ipython2",
   "version": "2.7.13"
  }
 },
 "nbformat": 4,
 "nbformat_minor": 2
}
